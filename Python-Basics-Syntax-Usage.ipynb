{
 "cells": [
  {
   "cell_type": "code",
   "execution_count": 1,
   "id": "a89946be",
   "metadata": {},
   "outputs": [
    {
     "data": {
      "text/plain": [
       "'0b1110110110'"
      ]
     },
     "execution_count": 1,
     "metadata": {},
     "output_type": "execute_result"
    }
   ],
   "source": [
    "bin(950)"
   ]
  },
  {
   "cell_type": "code",
   "execution_count": 2,
   "id": "2a2a7744",
   "metadata": {},
   "outputs": [
    {
     "data": {
      "text/plain": [
       "950"
      ]
     },
     "execution_count": 2,
     "metadata": {},
     "output_type": "execute_result"
    }
   ],
   "source": [
    "0b1110110110"
   ]
  },
  {
   "cell_type": "code",
   "execution_count": 3,
   "id": "ce704a3c",
   "metadata": {},
   "outputs": [
    {
     "data": {
      "text/plain": [
       "85"
      ]
     },
     "execution_count": 3,
     "metadata": {},
     "output_type": "execute_result"
    }
   ],
   "source": [
    "43+42"
   ]
  },
  {
   "cell_type": "code",
   "execution_count": 4,
   "id": "10569efd",
   "metadata": {},
   "outputs": [
    {
     "data": {
      "text/plain": [
       "-22"
      ]
     },
     "execution_count": 4,
     "metadata": {},
     "output_type": "execute_result"
    }
   ],
   "source": [
    "45-67"
   ]
  },
  {
   "cell_type": "code",
   "execution_count": 5,
   "id": "d607350f",
   "metadata": {},
   "outputs": [
    {
     "data": {
      "text/plain": [
       "6.5"
      ]
     },
     "execution_count": 5,
     "metadata": {},
     "output_type": "execute_result"
    }
   ],
   "source": [
    "78/12"
   ]
  },
  {
   "cell_type": "code",
   "execution_count": 6,
   "id": "d174e9bf",
   "metadata": {},
   "outputs": [
    {
     "data": {
      "text/plain": [
       "6"
      ]
     },
     "execution_count": 6,
     "metadata": {},
     "output_type": "execute_result"
    }
   ],
   "source": [
    "78//12"
   ]
  },
  {
   "cell_type": "code",
   "execution_count": 7,
   "id": "217bc7e2",
   "metadata": {},
   "outputs": [
    {
     "ename": "SyntaxError",
     "evalue": "invalid syntax (<ipython-input-7-99da94b146e9>, line 1)",
     "output_type": "error",
     "traceback": [
      "\u001b[1;36m  File \u001b[1;32m\"<ipython-input-7-99da94b146e9>\"\u001b[1;36m, line \u001b[1;32m1\u001b[0m\n\u001b[1;33m    78///12\u001b[0m\n\u001b[1;37m        ^\u001b[0m\n\u001b[1;31mSyntaxError\u001b[0m\u001b[1;31m:\u001b[0m invalid syntax\n"
     ]
    }
   ],
   "source": [
    "78///12"
   ]
  },
  {
   "cell_type": "code",
   "execution_count": 1,
   "id": "3c19f459",
   "metadata": {},
   "outputs": [
    {
     "name": "stdout",
     "output_type": "stream",
     "text": [
      "3\n",
      "4\n",
      "5\n"
     ]
    },
    {
     "ename": "NameError",
     "evalue": "name 'a' is not defined",
     "output_type": "error",
     "traceback": [
      "\u001b[1;31m---------------------------------------------------------------------------\u001b[0m",
      "\u001b[1;31mNameError\u001b[0m                                 Traceback (most recent call last)",
      "\u001b[1;32m<ipython-input-1-7114eba0eb73>\u001b[0m in \u001b[0;36m<module>\u001b[1;34m\u001b[0m\n\u001b[0;32m      2\u001b[0m \u001b[0minput\u001b[0m \u001b[1;33m(\u001b[0m\u001b[1;33m)\u001b[0m\u001b[1;33m\u001b[0m\u001b[1;33m\u001b[0m\u001b[0m\n\u001b[0;32m      3\u001b[0m \u001b[0minput\u001b[0m\u001b[1;33m(\u001b[0m\u001b[1;33m)\u001b[0m\u001b[1;33m\u001b[0m\u001b[1;33m\u001b[0m\u001b[0m\n\u001b[1;32m----> 4\u001b[1;33m \u001b[0mprint\u001b[0m\u001b[1;33m(\u001b[0m\u001b[0ma\u001b[0m\u001b[1;33m)\u001b[0m     \u001b[1;31m# no output as there is no value assigned to variable 'a'.\u001b[0m\u001b[1;33m\u001b[0m\u001b[1;33m\u001b[0m\u001b[0m\n\u001b[0m",
      "\u001b[1;31mNameError\u001b[0m: name 'a' is not defined"
     ]
    }
   ],
   "source": [
    "input()      # input taken as string by default in Python.\n",
    "input ()\n",
    "input()\n",
    "print(a)     # Generates an Error as there is no value assigned to variable 'a'."
   ]
  },
  {
   "cell_type": "code",
   "execution_count": 10,
   "id": "391e0d86",
   "metadata": {},
   "outputs": [
    {
     "name": "stdout",
     "output_type": "stream",
     "text": [
      "srk\n",
      "ftp\n",
      "srkftp\n"
     ]
    }
   ],
   "source": [
    "a=input()             # input taken as string by default and assigned to the variable.\n",
    "b=input()\n",
    "c=a+b                 # addition of two strings called as string concatination\n",
    "print(c)"
   ]
  },
  {
   "cell_type": "raw",
   "id": "67f80482",
   "metadata": {},
   "source": [
    "a = int(input())         \n",
    "b = int(input())\n",
    "\n",
    "c = a+b\n",
    "print(c)"
   ]
  },
  {
   "cell_type": "code",
   "execution_count": 20,
   "id": "65f8efca",
   "metadata": {},
   "outputs": [
    {
     "name": "stdout",
     "output_type": "stream",
     "text": [
      "enter a number 34\n",
      "enter the next number 46.5\n",
      "the addition of  34.0  & 46.5  is 80.5\n"
     ]
    }
   ],
   "source": [
    "a=float(input(\"enter a number \"))\n",
    "b=float(input(\"enter the next number \"))\n",
    "\n",
    "c=a+b\n",
    "\n",
    "print(\"the addition of \",a,\" &\", b,\" is\", c)"
   ]
  },
  {
   "cell_type": "code",
   "execution_count": 10,
   "id": "58961255",
   "metadata": {},
   "outputs": [
    {
     "name": "stdout",
     "output_type": "stream",
     "text": [
      "enter a number 4\n",
      "enter the next number 7.5\n",
      "the addition of  4.0  & 7.5  is 11.5\n"
     ]
    }
   ],
   "source": [
    "a=float(input(\"enter a number \"))\n",
    "b=float(input(\"enter the next number \"))\n",
    "\n",
    "c=a+b\n",
    "\n",
    "print(\"the addition of \",a,\" &\", b,\" is\", c)"
   ]
  },
  {
   "cell_type": "code",
   "execution_count": 12,
   "id": "fc591b14",
   "metadata": {},
   "outputs": [
    {
     "name": "stdout",
     "output_type": "stream",
     "text": [
      "Enter the string: abcdefg\n",
      "The result string:  abcdefgabcdefg\n"
     ]
    }
   ],
   "source": [
    "a=str(input(\"Enter the string: \"))\n",
    "print(\"The result string: \",a*2)"
   ]
  },
  {
   "cell_type": "code",
   "execution_count": 4,
   "id": "01db7205",
   "metadata": {},
   "outputs": [
    {
     "name": "stdout",
     "output_type": "stream",
     "text": [
      "The sum of Values:  535\n"
     ]
    }
   ],
   "source": [
    "\n",
    "number = [2,48,39,20,38,59,11,76,65,84,93]\n",
    "\n",
    "sum = 0\n",
    "\n",
    "for val in number:\n",
    "    sum+=val\n",
    "    \n",
    "print (\"The sum of Values: \",sum)"
   ]
  },
  {
   "cell_type": "code",
   "execution_count": 16,
   "id": "df78f2ca",
   "metadata": {
    "scrolled": true
   },
   "outputs": [
    {
     "name": "stdout",
     "output_type": "stream",
     "text": [
      "Enter number of elements : 7\n",
      "45\n",
      "78\n",
      "gtx\n",
      "89\n",
      "78\n",
      "gh\n",
      "uj\n",
      "['45', '78', 'gtx', '89', '78', 'gh', 'uj']\n"
     ]
    }
   ],
   "source": [
    "# creating an empty list\n",
    "list = []\n",
    "\n",
    "# number of elemetns as input\n",
    "n = int(input(\"Enter number of elements : \"))\n",
    "\n",
    "# iterating till the range\n",
    "for i in range(0, n):\n",
    "    ele = (input())\n",
    "    list.append(ele)            # adding the element\n",
    "\n",
    "print(list)\n"
   ]
  },
  {
   "cell_type": "code",
   "execution_count": 4,
   "id": "1332499a",
   "metadata": {},
   "outputs": [
    {
     "name": "stdout",
     "output_type": "stream",
     "text": [
      "Enter the value: 34\n",
      "<class 'int'>\n"
     ]
    }
   ],
   "source": [
    "ele = int(input(\"Enter the value: \"))\n",
    "print(type(ele))"
   ]
  },
  {
   "cell_type": "code",
   "execution_count": 21,
   "id": "f95e12da",
   "metadata": {},
   "outputs": [
    {
     "name": "stdout",
     "output_type": "stream",
     "text": [
      "[1, 2, 3, 4]\n"
     ]
    }
   ],
   "source": [
    "# break statements\n",
    "\n",
    "sequence = [1,2,3,4,5,6,7,8,9,10]\n",
    "c = []\n",
    "\n",
    "for val in sequence:\n",
    "    ele = val\n",
    "    if ele >= 5:\n",
    "        break              # >>>>>>>>>>>!             # the 'break' statement is always used with if condition.\n",
    "    c.append(ele)          #            !\n",
    "                           #            !\n",
    "print(c)                   # <<<<<<<<<<<\n",
    "\n",
    "# The break statement will terminate the for loop (or any other loop) once the if condition becomes false, -\n",
    "#   - and will not iterate the remaining iteration of the loop."
   ]
  },
  {
   "cell_type": "code",
   "execution_count": 19,
   "id": "1a3ae925",
   "metadata": {},
   "outputs": [
    {
     "name": "stdout",
     "output_type": "stream",
     "text": [
      "[1, 2, 3, 4]\n"
     ]
    }
   ],
   "source": [
    "# continue statements\n",
    "\n",
    "sequence = [1,2,3,4,5,6,7,8,9,10]\n",
    "d = []\n",
    "\n",
    "for val in sequence:      # <<<<<<<<<<<<<<\n",
    "    ele = val             #              ^\n",
    "    if ele >= 5:          #              ^\n",
    "        continue          # >>>>>>>>>>>>>^             # continue statement will direct the loop if the condition is true\n",
    "    d.append(ele)                                      #   - & alting the remaining code execution of that loop.\n",
    "    \n",
    "print(d)"
   ]
  },
  {
   "cell_type": "code",
   "execution_count": null,
   "id": "7581dc2c",
   "metadata": {},
   "outputs": [],
   "source": [
    "# Try to collect the elements after verifying datatypes  - output not obtained\n",
    "#                                                          output obtained in below program: In[19] & In[21]\n",
    "\n",
    "\n",
    "list = []                                          # creating an empty list\n",
    "\n",
    "n = int(input(\"Enter number of elements : \"))      # number of elemetns as input\n",
    "\n",
    "for i in range(0, n):                              # iterating till the range ('range can be written in slicing format')\n",
    "                                                   # i.e. 'range(start,stop,step)' syntax only\n",
    "    ele = input()\n",
    "    ele_type = str(ele) == ele\n",
    "    \n",
    "    if (type(ele) == <class):\n",
    "        ele = int(ele)\n",
    "        list.append(ele)                           # adding the element\n",
    "    \n",
    "    elif (type(ele) == <class 'float'>):\n",
    "        ele = float(ele)\n",
    "        list.append(ele)                           # adding the element\n",
    "    \n",
    "    else:\n",
    "        \n",
    "        list.append(ele)                           # adding the element"
   ]
  },
  {
   "cell_type": "code",
   "execution_count": 13,
   "id": "f1ce5ff0",
   "metadata": {},
   "outputs": [
    {
     "name": "stdout",
     "output_type": "stream",
     "text": [
      "Enter number of elements : 4\n",
      "34\n",
      "38.9\n",
      "gldi\n",
      "rkt\n",
      "['34', '38.9', 'gldi', 'rkt']\n"
     ]
    }
   ],
   "source": [
    "# Try to collect the elements after verifying datatypes  - output not obtained\n",
    "#                                                          output obtained in next program: In[16] & In[19]\n",
    "\n",
    "\n",
    "list = []                                          # creating an empty list\n",
    "\n",
    "n = int(input(\"Enter number of elements : \"))      # number of elemetns as input\n",
    "\n",
    "for i in range(0, n):                              # iterating till the range\n",
    "    \n",
    "    ele = input()\n",
    "    \n",
    "    ele_type = str(ele) == ele\n",
    "    \n",
    "    if ele_type == False:\n",
    "        ele = float(ele)\n",
    "        ele_type1 = ele - int(ele)\n",
    "        \n",
    "        if ele_type1 == 0:\n",
    "            ele = int(ele)\n",
    "            list.append(ele)                       # adding an element if its an integer\n",
    "        else:    \n",
    "            list.append(ele)                       # adding the element if its a float\n",
    "\n",
    "    else:\n",
    "        list.append(ele)                           # adding the element if its a string\n",
    "        \n",
    "print(list)"
   ]
  },
  {
   "cell_type": "code",
   "execution_count": 19,
   "id": "93ab3c99",
   "metadata": {},
   "outputs": [
    {
     "name": "stdout",
     "output_type": "stream",
     "text": [
      "Enter number of elements : 4\n",
      "wdge\n",
      "35\n",
      "no error occured when changing to number\n",
      "34.5\n",
      "no error occured when changing to number\n",
      "efd\n",
      "['wdge', 35.0, 34.5, 'efd']\n"
     ]
    }
   ],
   "source": [
    "# Try to collect the elements after verifying datatypes  - output obtained here & below In[21]\n",
    "# converting only to float datatype.\n",
    "\n",
    "list = []                                          # creating an empty list\n",
    "\n",
    "n = int(input(\"Enter number of elements : \"))      # number of elemetns as input\n",
    "\n",
    "for i in range(0, n):                              # 'for i in range(n)' is also the same --- iterating till the range\n",
    "    \n",
    "    ele = input()\n",
    "    \n",
    "    try:\n",
    "        ele = float(ele)\n",
    "    except:\n",
    "#        raise TypeError('Input is not a number')\n",
    "        pass\n",
    "    else:\n",
    "        print(\"no error occured when changing to number\")\n",
    "        \n",
    "    list.append(ele)\n",
    "print(list)"
   ]
  },
  {
   "cell_type": "code",
   "execution_count": 21,
   "id": "d1c3dbb5",
   "metadata": {},
   "outputs": [
    {
     "name": "stdout",
     "output_type": "stream",
     "text": [
      "Enter number of elements : 6\n",
      "sdjf\n",
      "error in changing to number\n",
      "34.4\n",
      "no error occured when changing to number\n",
      "39\n",
      "no error occured when changing to number\n",
      "38.0\n",
      "no error occured when changing to number\n",
      "47\n",
      "no error occured when changing to number\n",
      "43.0\n",
      "no error occured when changing to number\n",
      "['sdjf', 34.4, 39, 38, 47, 43]\n"
     ]
    }
   ],
   "source": [
    "# Try to collect the elements after verifying datatypes- output obtained here & above In[19]\n",
    "# Has all the exceptions solved here.\n",
    "\n",
    "\n",
    "list = []                                          # creating an empty list\n",
    "\n",
    "n = int(input(\"Enter number of elements : \"))      # number of elemetns as input\n",
    "\n",
    "for i in range(0, n):                              # iterating till the range\n",
    "    ele = input()\n",
    "    \n",
    "    try:\n",
    "        ele = float(ele)                           # trying to convert into float if input is number\n",
    "#        list.append(ele)\n",
    "        try:\n",
    "            if ele == int(ele):\n",
    "                ele = int(ele)                     # convert to integer if it is a float & value is zero after decimal.\n",
    "        except:\n",
    "#            print('Error while changing to Integer')\n",
    "            pass\n",
    "        else:\n",
    "#            print(\"no error occured when changing to number\")\n",
    "            pass\n",
    "    except:\n",
    "        print('error while changing to number') \n",
    "#        raise TypeError('Input is not a number')\n",
    "        pass\n",
    "    \n",
    "    list.append(ele)\n",
    "    \n",
    "print(list)"
   ]
  },
  {
   "cell_type": "code",
   "execution_count": 28,
   "id": "a936d559",
   "metadata": {},
   "outputs": [
    {
     "name": "stdout",
     "output_type": "stream",
     "text": [
      "Enter the number of iteration: 5\n",
      "0 + 1 = 1\n",
      "1 + 2 = 3\n",
      "3 + 3 = 6\n",
      "6 + 4 = 10\n",
      "10 + 5 = 15\n",
      "The total Value:  15\n"
     ]
    }
   ],
   "source": [
    "n=int(input(\"Enter the number of iteration: \"))\n",
    "\n",
    "sum=0\n",
    "\n",
    "for i in range(1,n+1):\n",
    "    if i>50:\n",
    "        break\n",
    "    sum+=i\n",
    "    print(sum-i,'+',i,'=',sum)\n",
    "print(\"The total Value: \",sum)"
   ]
  },
  {
   "cell_type": "code",
   "execution_count": 12,
   "id": "45e8b96f",
   "metadata": {},
   "outputs": [
    {
     "name": "stdout",
     "output_type": "stream",
     "text": [
      "Enter your Score101\n",
      "Invalid Score\n"
     ]
    }
   ],
   "source": [
    "score=float(input(\"Enter your Score\"))\n",
    "\n",
    "if (score>=50) and (score<=100):\n",
    "    print(\"You have passed your exams\")\n",
    "    print(\"Congratulations\")\n",
    "\n",
    "elif (score<50) and (score>=35):\n",
    "    print(\"You have passed with base score\")\n",
    "    print(\"Need to improve\")\n",
    "        \n",
    "elif (score>=0) and (score<35):\n",
    "    print(\"You have failed\")\n",
    "    \n",
    "else:\n",
    "    print(\"Invalid Score\")"
   ]
  },
  {
   "cell_type": "code",
   "execution_count": 27,
   "id": "d12dad4e",
   "metadata": {},
   "outputs": [
    {
     "name": "stdout",
     "output_type": "stream",
     "text": [
      "Enter the Multipliation Number: 98\n",
      "Enter the Number Of Multiplicity to be done: 9\n",
      "\n",
      "98 x 9 = 882\n",
      "98 x 8 = 784\n",
      "98 x 7 = 686\n",
      "98 x 6 = 588\n",
      "98 x 5 = 490\n",
      "98 x 4 = 392\n",
      "98 x 3 = 294\n",
      "98 x 2 = 196\n",
      "98 x 1 = 98\n"
     ]
    }
   ],
   "source": [
    "n=int(input(\"Enter the Multipliation Number: \"))\n",
    "score=int(input(\"Enter the Number Of Multiplicity to be done: \"))\n",
    "print()\n",
    "\n",
    "while score>0 and score<=10:\n",
    "    print(n,\"x\",score,\"=\",n*score)\n",
    "    score-=1"
   ]
  },
  {
   "cell_type": "code",
   "execution_count": 14,
   "id": "6ada9d65",
   "metadata": {},
   "outputs": [
    {
     "ename": "IndentationError",
     "evalue": "unexpected indent (<ipython-input-14-38d109b1067a>, line 3)",
     "output_type": "error",
     "traceback": [
      "\u001b[1;36m  File \u001b[1;32m\"<ipython-input-14-38d109b1067a>\"\u001b[1;36m, line \u001b[1;32m3\u001b[0m\n\u001b[1;33m    list.append()=input()\u001b[0m\n\u001b[1;37m    ^\u001b[0m\n\u001b[1;31mIndentationError\u001b[0m\u001b[1;31m:\u001b[0m unexpected indent\n"
     ]
    }
   ],
   "source": [
    "list = [\"First\",\"Second\",\"Third\"]\n",
    "\n",
    "    list.append()=input()"
   ]
  },
  {
   "cell_type": "code",
   "execution_count": 6,
   "id": "1d9a0257",
   "metadata": {},
   "outputs": [
    {
     "name": "stdout",
     "output_type": "stream",
     "text": [
      "Enter the number of proceedings: 16\n",
      "[0, 1, 1, 2, 3, 5, 8, 13, 21, 34, 55, 89, 144, 233, 377, 610]\n"
     ]
    }
   ],
   "source": [
    "n1=0\n",
    "n2=1\n",
    "\n",
    "num=int(input(\"Enter the number of proceedings: \"))\n",
    "\n",
    "list=[]\n",
    "\n",
    "for i in range(0,num):           # same output with ('for i in range(num):')\n",
    "    \n",
    "    new=n1\n",
    "    list.append(new)\n",
    "    n4=n1+n2\n",
    "    n1=n2\n",
    "    n2=n4\n",
    "    \n",
    "print(list)"
   ]
  },
  {
   "cell_type": "code",
   "execution_count": 4,
   "id": "4ff06f74",
   "metadata": {},
   "outputs": [
    {
     "name": "stdout",
     "output_type": "stream",
     "text": [
      "25\n",
      "30\n"
     ]
    }
   ],
   "source": [
    "list = [1,2,3,4,5,6,7,8,9,10]\n",
    "\n",
    "print(sum(list[::2]))          # 1+3+5+7+9      (slicing)\n",
    "print(sum(list[1::2]))         # 2+4+6+8+10     (slicing)"
   ]
  },
  {
   "cell_type": "code",
   "execution_count": 27,
   "id": "0d54649b",
   "metadata": {},
   "outputs": [
    {
     "name": "stdout",
     "output_type": "stream",
     "text": [
      "True\n"
     ]
    }
   ],
   "source": [
    "a = 'lime'\n",
    "b = 'four'\n",
    "\n",
    "print(a > b)"
   ]
  },
  {
   "cell_type": "code",
   "execution_count": 31,
   "id": "1501ec86",
   "metadata": {},
   "outputs": [
    {
     "name": "stdout",
     "output_type": "stream",
     "text": [
      "Enter the arithmatic Problem:334+45-2*1/2\n"
     ]
    },
    {
     "ename": "AttributeError",
     "evalue": "'list' object has no attribute 'split'",
     "output_type": "error",
     "traceback": [
      "\u001b[1;31m---------------------------------------------------------------------------\u001b[0m",
      "\u001b[1;31mAttributeError\u001b[0m                            Traceback (most recent call last)",
      "\u001b[1;32m<ipython-input-31-ab7dd3371e12>\u001b[0m in \u001b[0;36m<module>\u001b[1;34m\u001b[0m\n\u001b[0;32m      2\u001b[0m \u001b[1;33m\u001b[0m\u001b[0m\n\u001b[0;32m      3\u001b[0m \u001b[0mn1\u001b[0m \u001b[1;33m=\u001b[0m \u001b[0mn\u001b[0m\u001b[1;33m.\u001b[0m\u001b[0msplit\u001b[0m\u001b[1;33m(\u001b[0m\u001b[1;34m'+'\u001b[0m\u001b[1;33m)\u001b[0m\u001b[1;33m\u001b[0m\u001b[1;33m\u001b[0m\u001b[0m\n\u001b[1;32m----> 4\u001b[1;33m \u001b[0mn1\u001b[0m \u001b[1;33m=\u001b[0m \u001b[0mn1\u001b[0m\u001b[1;33m.\u001b[0m\u001b[0msplit\u001b[0m\u001b[1;33m(\u001b[0m\u001b[1;34m'-'\u001b[0m\u001b[1;33m)\u001b[0m\u001b[1;33m\u001b[0m\u001b[1;33m\u001b[0m\u001b[0m\n\u001b[0m\u001b[0;32m      5\u001b[0m \u001b[0mn1\u001b[0m \u001b[1;33m=\u001b[0m \u001b[0mn1\u001b[0m\u001b[1;33m.\u001b[0m\u001b[0msplit\u001b[0m\u001b[1;33m(\u001b[0m\u001b[1;34m'*'\u001b[0m\u001b[1;33m)\u001b[0m\u001b[1;33m\u001b[0m\u001b[1;33m\u001b[0m\u001b[0m\n\u001b[0;32m      6\u001b[0m \u001b[0mn1\u001b[0m \u001b[1;33m=\u001b[0m \u001b[0mn1\u001b[0m\u001b[1;33m.\u001b[0m\u001b[0msplit\u001b[0m\u001b[1;33m(\u001b[0m\u001b[1;34m'/'\u001b[0m\u001b[1;33m)\u001b[0m\u001b[1;33m\u001b[0m\u001b[1;33m\u001b[0m\u001b[0m\n",
      "\u001b[1;31mAttributeError\u001b[0m: 'list' object has no attribute 'split'"
     ]
    }
   ],
   "source": [
    "# taking the input from the user in the arithmatic equation/expression form and return the solution of the user equation\n",
    "\n",
    "n =(input(\"Enter the arithmatic Problem:\"))\n",
    "\n",
    "n1 = n.split('+')\n",
    "n1 = n1.split('-')\n",
    "n1 = n1.split('*')\n",
    "n1 = n1.split('/')\n",
    "\n",
    "print('The Solution for the problem: ',n1)"
   ]
  },
  {
   "cell_type": "code",
   "execution_count": 5,
   "id": "601ef668",
   "metadata": {},
   "outputs": [
    {
     "name": "stdout",
     "output_type": "stream",
     "text": [
      "Hello Monica   Good evening\n"
     ]
    }
   ],
   "source": [
    "# function arguments\n",
    "\n",
    "def greet(name,msg):                     # defining the function\n",
    "    print('Hello',name,' ',msg)\n",
    "    \n",
    "greet('Monica','Good evening')          # calling the function"
   ]
  },
  {
   "cell_type": "code",
   "execution_count": 7,
   "id": "17e8e1c8",
   "metadata": {},
   "outputs": [
    {
     "name": "stdout",
     "output_type": "stream",
     "text": [
      "Hello Nick   Good Morning\n"
     ]
    }
   ],
   "source": [
    "# function with default arguments\n",
    "\n",
    "def greeting(name1,msg1 = 'Good Morning'):      # difined function with default argument defined in the function\n",
    "    print(\"Hello\",name1,\" \",msg1)\n",
    "    \n",
    "greeting(\"Nick\")                                # calling the function with single argument value,\n",
    "                                                # msg argument will call the default value assigned to it.\n",
    "\n",
    "#  Note that the default arguments need to be defined at the end, \n",
    "#   - i.e., first the arguments need to be provided, then the arguments with default values to be specified.\n",
    "# Any number of default arguments can be specified while defining the function."
   ]
  },
  {
   "cell_type": "code",
   "execution_count": 8,
   "id": "4136a847",
   "metadata": {},
   "outputs": [
    {
     "name": "stdout",
     "output_type": "stream",
     "text": [
      "Hello ('Monica', 'Nick', 'Anna') Good Morning\n"
     ]
    }
   ],
   "source": [
    "# functions with Arbitary arguments (*argument) accepts Multiple arguments\n",
    "\n",
    "def greetings(*name, msg2 = 'Good Morning'):\n",
    "    print('Hello',name,msg2)\n",
    "    \n",
    "greetings('Monica','Nick','Anna')\n",
    "\n",
    "# Here 'name' argument can take any number of arguments (0 or more).\n",
    "# if multiple arguments are provided, it takes it as a 'tuple'."
   ]
  },
  {
   "cell_type": "code",
   "execution_count": null,
   "id": "7bf187df",
   "metadata": {},
   "outputs": [],
   "source": [
    "# Function accepting multiple parameters as key:value pair (**arguments)\n",
    "# accepting multiple parameters as dictionary\n",
    "\n",
    "def groceries(**items):                                    # multiple arguments accepted as key:value pairs \n",
    "    return items\n",
    "\n",
    "dict = groceries(apple= 4,banana= 5,guava= 3,orange= 2)   # no need of using the parameters as 'string' (only in this keys)\n",
    "print(dict)                                               # i.e. used as key=value"
   ]
  },
  {
   "cell_type": "code",
   "execution_count": 1,
   "id": "ab7946b1",
   "metadata": {},
   "outputs": [
    {
     "name": "stdout",
     "output_type": "stream",
     "text": [
      "Name : Jay Kumar\n",
      "Skills : ('Python', 'sql', 'Django')\n",
      "Level : {'Python': 'Beginner', 'Django': 'Intermediate'}\n",
      "Help on function profile in module __main__:\n",
      "\n",
      "profile(fname, lname, *args, **kwargs)\n",
      "    comment: This program lets you understand the use of various types of arguments\n",
      "    that can be given to the function.\n",
      "\n"
     ]
    },
    {
     "data": {
      "text/plain": [
       "\" Comment for the help(function/class_name) called above:\\n\\n    The doc string used in the function is displayed when called the help function \\n    to let the new programmer understand what the function is doing.\\n    doc string need to be used inside the 'function' or a 'class'.\\n\""
      ]
     },
     "execution_count": 1,
     "metadata": {},
     "output_type": "execute_result"
    }
   ],
   "source": [
    "# Function with multiple argument types taken all-together and 'doc string used' used to describe the function operation.\n",
    "# 'doc string' is mentioned within triple quotes as follow         '''    doc string content   '''.\n",
    "# Note:  'doc string' need to be used inside the 'function' or a 'class'(need to check for the class).\n",
    "\n",
    "def profile(fname,lname,*args,**kwargs):\n",
    "    \n",
    "    \"\"\"\n",
    "comment: This program lets you understand the use of various types of arguments\n",
    "that can be given to the function.\n",
    "    \"\"\"\n",
    "    \n",
    "    name = f\"{fname.title()} {lname.title()}\"\n",
    "    return f\"Name : {name}\\nSkills : {args}\\nLevel : {kwargs}\"\n",
    "\n",
    "app = profile('jAy','kUmAr','Python','sql','Django',Python= 'Beginner',Django = 'Intermediate')\n",
    "\n",
    "#  fname    : 'jAy'                                               (string taken as parameter)\n",
    "#  lname    : 'kUmAr'\n",
    "#  *args    : 'Python','sql','Django'                             (multiple arguments taken as strings)\n",
    "#  **kwargs : Python = 'Beginner', Django = 'Intermediate'        (keyword arguments collected in the form of dictionary)\n",
    "#                                             (key is already defined as args, in kwargs the value is defined as strings)\n",
    "\n",
    "print(app)\n",
    "\n",
    "help(profile)          \n",
    "\n",
    "''' Comment for the help(function/class_name) called above:\n",
    "\n",
    "    The doc string used in the function is displayed when called the help function \n",
    "    to let the new programmer understand what the function is doing.\n",
    "    doc string need to be used inside the 'function' or a 'class'.\n",
    "'''"
   ]
  },
  {
   "cell_type": "code",
   "execution_count": 42,
   "id": "f989026e",
   "metadata": {},
   "outputs": [
    {
     "name": "stdout",
     "output_type": "stream",
     "text": [
      "Enter the number to be squared: 3\n",
      "9 \n",
      "\n",
      "11\n"
     ]
    }
   ],
   "source": [
    "# ananymous function - lambda function\n",
    "\n",
    "# Syntax-  \" 'lambda' 'arguments': 'expression' \"                             <<<<<<<<<<<<<<<<<<<<<<<<<<<<<<<<<<<<<<<<<\n",
    "# In python, we can define a function without a name. Such function is called ananymous or lambda function.           ^\n",
    "                                                                                          #                           ^\n",
    "n = int(input('Enter the number to be squared: '))                                        #                           ^\n",
    "                                                                                          #                           ^\n",
    "square = lambda x: x*x                              # ananymous function defined with 'lambda' keyword   >>>>>>>>>>>>>^\n",
    "                                                                                          #                           ^\n",
    "result = square(n)                                  # instead of 'n', you can directly give the value                 ^\n",
    "print(result,'\\n')                                  # 'return' keyword is not used in lambda function                 ^\n",
    "                                                                                          #                           ^\n",
    "                                                                                          #                           ^\n",
    "# method 2                                                                                #                           ^\n",
    "                                                                                          #                           ^\n",
    "sum = lambda a,b,c: a+b+c                           # ananymous function defined with 'lambda' keyword   >>>>>>>>>>>>>^ \n",
    "\n",
    "print(sum(1,3,7))"
   ]
  },
  {
   "cell_type": "code",
   "execution_count": 50,
   "id": "542f1b4e",
   "metadata": {},
   "outputs": [
    {
     "name": "stdout",
     "output_type": "stream",
     "text": [
      "15\n"
     ]
    }
   ],
   "source": [
    "# Python Recursion\n",
    "\n",
    "# The function that calls itself is known as recursive function.\n",
    "# Recursive function can be used only with conditional statements like 'if - else' condition.\n",
    "\n",
    "def calc_sum(n):\n",
    "    if n == 1:\n",
    "        return 1\n",
    "    else:\n",
    "        return n + calc_sum(n-1)\n",
    "\n",
    "sum = calc_sum(5)\n",
    "print(sum)"
   ]
  },
  {
   "cell_type": "code",
   "execution_count": 73,
   "id": "8a423161",
   "metadata": {},
   "outputs": [
    {
     "name": "stdout",
     "output_type": "stream",
     "text": [
      "6\n"
     ]
    }
   ],
   "source": [
    "# Collection Data Types\n",
    "\n",
    "# Python List\n",
    "\n",
    "numbers = [1,23,43]\n",
    "\n",
    "list1 = []                         # empty list\n",
    "\n",
    "list2 = [1,2,3]                    # list with integers\n",
    "\n",
    "list3 = [1,'Hello',3.4]            # list with mixed data types\n",
    "\n",
    "list4 = ['mouse',[8,4,6],['a']]    # nested list\n",
    "\n",
    "a = list4[1][2]                    # accessing the element of the nested list\n",
    "print(a)"
   ]
  },
  {
   "cell_type": "code",
   "execution_count": 4,
   "id": "34a405f5",
   "metadata": {},
   "outputs": [
    {
     "name": "stdout",
     "output_type": "stream",
     "text": [
      "Pyt\n",
      "hon\n",
      "Pto\n",
      "4\n"
     ]
    },
    {
     "data": {
      "text/plain": [
       "['a', 'e', 'f', 'n', 's']"
      ]
     },
     "execution_count": 4,
     "metadata": {},
     "output_type": "execute_result"
    }
   ],
   "source": [
    "# Python List- Slicing [start:end:step]\n",
    "\n",
    "string = 'Python'\n",
    "\n",
    "print(string[:3])\n",
    "print(string[3:])\n",
    "print(string[::2])\n",
    "print(string.index('o'))\n",
    "\n",
    "\n",
    "string_1 = 'safne'\n",
    "sorted(string_1)               # sorted is in-built function used to sort the string in the alphabetical order."
   ]
  },
  {
   "cell_type": "code",
   "execution_count": 14,
   "id": "15ae8e78",
   "metadata": {},
   "outputs": [
    {
     "name": "stdout",
     "output_type": "stream",
     "text": [
      "Output 1: [2, 4, 6, 8]\n",
      "\n",
      "Output 2: [1, 3, 5, 7]\n",
      "\n",
      "Output 3: [1, 3, 5, 7, 9]\n",
      "\n",
      "Output 4: [1, 3, 5, 7, 9, 11, 13, 15]\n",
      "\n",
      "The length of list: 8\n",
      "\n",
      "[15, 13, 11, 9, 7, 5, 3, 1] \n",
      "\n",
      "reverse Output 5: [1, 3, 5, 7, 9, 11, 13, 15]\n",
      "\n",
      "reverse Output 6: [15, 13, 11, 9, 7, 5, 3, 1]\n",
      "\n",
      "The maximum value of the list: 15\n",
      "The minimum value of the list: 1\n",
      "\n",
      "Output 7: [15, 16, 13, 11, 9, 7, 5, 3, 1]\n",
      "\n",
      "pop(1) Output: 16\n",
      "\n",
      "Output 8: [15, 13, 11, 9, 7, 5, 3, 1]\n",
      "\n",
      "Output 9: [15, 13, 11, 7, 5, 3, 1]\n",
      "\n",
      "Output 10: [15, 13, 14, 7, 5, 3, 1]\n",
      "\n",
      "Output 11: [15, 13, 14, 7, 5, 3, 1]\n",
      "\n",
      "index of 14 : 2\n",
      "\n",
      "decending order sorted: [15, 14, 13, 7, 5, 3, 1]\n",
      "ascending order sorted: [1, 3, 5, 7, 13, 14, 15]\n",
      "\n",
      "counting 4 in list: 0\n",
      "\n",
      "updating value at index 4: [1, 3, 5, 7, 'zero', 14, 15]\n",
      "\n",
      "updating multiple values using slicing: [1, 3, 5, 'one', 'two', 'three', 'four']\n",
      "\n",
      "Output : [1, 3, 5, 'one', 'two', 'three', 'four', 5]\n",
      "\n",
      "Output : [1, 3, 5, 'one', 'two', 'three', 'four']\n",
      "\n",
      "Joining list elements to form a string using 'character.join(list)\n",
      "one two three four\n",
      "\n",
      "['one', 'two', 'four']\n",
      "['one']\n",
      "[]\n"
     ]
    },
    {
     "ename": "NameError",
     "evalue": "name 'odd' is not defined",
     "output_type": "error",
     "traceback": [
      "\u001b[1;31m---------------------------------------------------------------------------\u001b[0m",
      "\u001b[1;31mNameError\u001b[0m                                 Traceback (most recent call last)",
      "\u001b[1;32m<ipython-input-14-3b25cf3766b1>\u001b[0m in \u001b[0;36m<module>\u001b[1;34m\u001b[0m\n\u001b[0;32m     79\u001b[0m \u001b[1;33m\u001b[0m\u001b[0m\n\u001b[0;32m     80\u001b[0m \u001b[1;32mdel\u001b[0m \u001b[0modd\u001b[0m                 \u001b[1;31m# deletes the list and leaves no info of it anywhere, hence when accessing the list, error occured.\u001b[0m\u001b[1;33m\u001b[0m\u001b[1;33m\u001b[0m\u001b[0m\n\u001b[1;32m---> 81\u001b[1;33m \u001b[0mprint\u001b[0m\u001b[1;33m(\u001b[0m\u001b[0modd\u001b[0m\u001b[1;33m)\u001b[0m\u001b[1;33m\u001b[0m\u001b[1;33m\u001b[0m\u001b[0m\n\u001b[0m",
      "\u001b[1;31mNameError\u001b[0m: name 'odd' is not defined"
     ]
    }
   ],
   "source": [
    "# Python List- Change item in list\n",
    "\n",
    "odd = [2,4,6,8]\n",
    "print(f'Output 1: {odd}\\n')\n",
    "\n",
    "odd[0] = 1                # changing single item in a list\n",
    "odd[1:4] = [3,5,7]        # changing multiple items in a list\n",
    "print(f'Output 2: {odd}\\n')\n",
    "\n",
    "odd.append(9)             # adding an item in the list at the last\n",
    "print(f'Output 3: {odd}\\n')\n",
    "\n",
    "odd.extend([11,13,15])    # adding list (multiple items)to the existig list at the last by extending\n",
    "print(f'Output 4: {odd}\\n')\n",
    "\n",
    "print(f\"The length of list: {len(odd)}\\n\")      # finding the length of the list using 'len()'\n",
    "\n",
    "print(odd[::-1],'\\n')  # reversing the order of list temporarily for that instances only. After operation, back to original\n",
    "print(f'reverse Output 5: {odd}\\n')\n",
    "\n",
    "odd.reverse()             # reversing the order of the list permanently.\n",
    "print(f'reverse Output 6: {odd}\\n')\n",
    "\n",
    "print(f\"The maximum value of the list: {max(odd)}\")        # max function to find the maximum value in the list\n",
    "print(f\"The minimum value of the list: {min(odd)}\\n\")      # min function to find the minimum value in the list\n",
    "\n",
    "odd.insert(1,16)          # inserting an item in between the elements of a list using 'list_name.insert(index,value)'\n",
    "print(f'Output 7: {odd}\\n')\n",
    "\n",
    "print(f'pop(1) Output: {odd.pop(1)}\\n')  # remove the item at specific index & stores in itself 'pop()'\n",
    "print(f'Output 8: {odd}\\n')              # (by default deletes last index value)\n",
    "\n",
    "odd.remove(9)          # remove the 'value' that is specified between parentheses without need of accessing index position.\n",
    "print(f'Output 9: {odd}\\n')\n",
    "\n",
    "whole = odd               # copying the 'odd' list element to 'whole' list, -\n",
    "                          #   - if we make changes in 'odd', will reflect the same in 'whole'\n",
    "    \n",
    "odd[2] = 14                  # changing the item at index 2 in 'odd' list, but the changes also reflecting in 'whole' list.\n",
    "print(f'Output 10: {odd}\\n')\n",
    "print(f'Output 11: {whole}\\n')\n",
    "\n",
    "print(f'index of 14 : {odd.index(14)}\\n')    # identifying the index position of value 14 in the list.\n",
    "\n",
    "odd.sort(reverse = True)                     # arranging the list in decending order\n",
    "print(f'decending order sorted: {odd}')\n",
    "\n",
    "odd.sort()                                  # arranging the list in ascending order\n",
    "print(f'ascending order sorted: {odd}\\n')\n",
    "\n",
    "print(f'counting 4 in list: {odd.count(4)}\\n')    # counting the number of times the value is repeated in the list.\n",
    "\n",
    "odd[4] = 'zero'                                   # updating the value of index position 4\n",
    "print(f'updating value at index 4: {odd}\\n')\n",
    "\n",
    "odd[3:7] = ['one','two','three','four']           # updating multiple values in a list using slicing.\n",
    "print(f'updating multiple values using slicing: {odd}\\n')\n",
    "\n",
    "            # the correct way of copying the list is by using '.copy()'\n",
    "\n",
    "whole1 = odd.copy()       # copying the 'odd' list to 'whole1' list, no changes will reflect on changes made in odd later. \n",
    "odd.append(5)\n",
    "print(f'Output : {odd}\\n')\n",
    "print(f'Output : {whole1}\\n')\n",
    "\n",
    "odd = ['one','two','three','four']\n",
    "space = \" \"\n",
    "odd_string = space.join(odd)        # joining the elements of list to form the list (elements must be in str format)\n",
    "print(f\"Joining list elements to form a string using 'character.join(list)\\n{odd_string}\\n\")\n",
    "\n",
    "del odd[2]                # deleting an item at the index position 2\n",
    "print(odd)\n",
    "\n",
    "del odd[1:3]              # deleting multiple items from index position [start:including, end:excluding]\n",
    "print(odd)\n",
    "\n",
    "odd.clear()               # clears all the items of the list and changes to empty list\n",
    "print(odd)\n",
    "\n",
    "del odd                 # deletes the list and leaves no info of it anywhere, hence when accessing the list, error occured.\n",
    "print(odd)"
   ]
  },
  {
   "cell_type": "code",
   "execution_count": 1,
   "id": "e554663f",
   "metadata": {},
   "outputs": [
    {
     "name": "stdout",
     "output_type": "stream",
     "text": [
      "\n",
      "my_tuple :  ()\n",
      "\n",
      "my_tuple1:  (1, 2, 3, 'Four')\n",
      "\n",
      "my_tuple2:  (1, 3, 5, 'Seven', [7, 8, 9])\n",
      "\n",
      "my_tuple3:  (1, 2, 3, 'Four', 'Five', (6, 7, 8))\n",
      "\n",
      "my_tuple4: Hello \n",
      "my_tuple4 type:  <class 'str'>\n",
      "\n",
      "my_tuple5: ('Hello',) \n",
      "my_tuple5 type:  <class 'tuple'>\n",
      "\n",
      "my_tuple6:  (1, 2, ['a', 'z'])\n",
      "\n",
      "changed elements of my_tuple6 list element:\n",
      " (1, 2, ['a', 'b'])\n",
      "\n",
      "adding an element in my_tuple6 list element:\n",
      " (1, 2, ['a', 'b', 'c'])\n"
     ]
    },
    {
     "ename": "TypeError",
     "evalue": "'tuple' object does not support item assignment",
     "output_type": "error",
     "traceback": [
      "\u001b[1;31m---------------------------------------------------------------------------\u001b[0m",
      "\u001b[1;31mTypeError\u001b[0m                                 Traceback (most recent call last)",
      "\u001b[1;32m<ipython-input-1-93d83a9dec70>\u001b[0m in \u001b[0;36m<module>\u001b[1;34m\u001b[0m\n\u001b[0;32m     30\u001b[0m \u001b[0mprint\u001b[0m\u001b[1;33m(\u001b[0m\u001b[1;34m'\\nadding an element in my_tuple6 list element:\\n'\u001b[0m\u001b[1;33m,\u001b[0m\u001b[0mmy_tuple6\u001b[0m\u001b[1;33m)\u001b[0m\u001b[1;33m\u001b[0m\u001b[1;33m\u001b[0m\u001b[0m\n\u001b[0;32m     31\u001b[0m \u001b[1;33m\u001b[0m\u001b[0m\n\u001b[1;32m---> 32\u001b[1;33m \u001b[0mmy_tuple6\u001b[0m\u001b[1;33m[\u001b[0m\u001b[1;36m1\u001b[0m\u001b[1;33m]\u001b[0m \u001b[1;33m=\u001b[0m \u001b[1;36m3\u001b[0m                               \u001b[1;31m# trying to change the element of tuple(), generating an error\u001b[0m\u001b[1;33m\u001b[0m\u001b[1;33m\u001b[0m\u001b[0m\n\u001b[0m\u001b[0;32m     33\u001b[0m \u001b[0mprint\u001b[0m\u001b[1;33m(\u001b[0m\u001b[1;34m'\\nchanged an element in my_tuple6:\\n'\u001b[0m\u001b[1;33m,\u001b[0m\u001b[0mmy_tuple6\u001b[0m\u001b[1;33m)\u001b[0m\u001b[1;33m\u001b[0m\u001b[1;33m\u001b[0m\u001b[0m\n\u001b[0;32m     34\u001b[0m \u001b[1;33m\u001b[0m\u001b[0m\n",
      "\u001b[1;31mTypeError\u001b[0m: 'tuple' object does not support item assignment"
     ]
    }
   ],
   "source": [
    "# tuples()\n",
    "\n",
    "# Tuples are immutable i.e. the elements of tuples cannot changed once assigned unlike we can in lists.\n",
    "# However, if a tuple contains elements that are mutable(like lists), it can be changed.\n",
    "\n",
    "my_tuple = ()\n",
    "print('\\nmy_tuple : ',my_tuple)\n",
    "\n",
    "my_tuple1 = (1,2,3,'Four')                     # any number of elements with different datatypes can be assigned to it.\n",
    "print('\\nmy_tuple1: ',my_tuple1)\n",
    "\n",
    "my_tuple2 = 1,3,5,'Seven',[7,8,9]              # to define the tuple(), it is not necessary to use the parentheses,-\n",
    "print('\\nmy_tuple2: ',my_tuple2)               #   - however it is a good practice to use the parentheses for the tuple().\n",
    "\n",
    "my_tuple3 = (1,2,3,'Four','Five',(6,7,8))      # nested tuple()\n",
    "print('\\nmy_tuple3: ',my_tuple3)\n",
    "\n",
    "my_tuple4 = ('Hello')                          # for defining the single element in tuple(), need to provide the comma also\n",
    "print('\\nmy_tuple4:',my_tuple4,'\\nmy_tuple4 type: ',type(my_tuple4))  #   - else will take it a string or numeric datatype.\n",
    "\n",
    "my_tuple5 = ('Hello',)                    # defining a tuple with single element followed by a comma, to consider as tuple.\n",
    "print('\\nmy_tuple5:',my_tuple5,'\\nmy_tuple5 type: ',type(my_tuple5))\n",
    "\n",
    "my_tuple6 = (1,2,['a','z'])\n",
    "print('\\nmy_tuple6: ',my_tuple6)\n",
    "my_tuple6[2][1] = 'b'                          # changing the element of the list that is present in the tuple\n",
    "print('\\nchanged elements of my_tuple6 list element:\\n',my_tuple6)\n",
    "\n",
    "my_tuple6[2].append('c')                       # adding an element to the list that is present in the tuple\n",
    "print('\\nadding an element in my_tuple6 list element:\\n',my_tuple6)\n",
    "\n",
    "my_tuple6[1] = 3                               # trying to change the element of tuple(), generating an error\n",
    "print('\\nchanged an element in my_tuple6:\\n',my_tuple6)\n",
    "\n",
    "del my_tuple                                # deleting the entire tuple, but cannot delete the individual element of tuple.\n",
    "\n",
    "# only the elements lies within the 'list, dict, set' can be changed that are present in the tuple. -\n",
    "#   - The elements of tuple cannot be changed in any instance.\n",
    "\n",
    "# The elements of tuple() are immutable, however they can be used for operations like concatination '+' & repeatation '*'-\n",
    "#   - these operations can be performed as they are not changing the original tuple."
   ]
  },
  {
   "cell_type": "code",
   "execution_count": 3,
   "id": "c5446e18",
   "metadata": {},
   "outputs": [
    {
     "name": "stdout",
     "output_type": "stream",
     "text": [
      "{1, 2, 3} \n",
      "\n",
      "my_set1: {1.0, (1, 2, 3), 'Hello'}\n",
      "\n",
      "my_set2: {1, 2, 3}\n",
      "\n",
      "my_set3: {1, 4}\n",
      "\n",
      "empty set: set()\n",
      "\n",
      "my_set5: {1, 3}\n",
      "added element: {1, 2, 3}\n",
      "\n",
      "Updated set: {1, 2, 3, 4, 5, 6}\n",
      "Updated set: {1, 2, 3, 4, 5, 6, 7, 8, 9}\n",
      "\n",
      "my_set6: {'a', 'b', 'c'}\n",
      "removed element: a\n",
      "clearing set: set()\n",
      "\n",
      "discarded element: {1, 2, 3, 4, 6}\n",
      "discarded element: {1, 2, 3, 4, 6}\n",
      "\n",
      "removed element: {1, 2, 3, 5, 6}\n"
     ]
    },
    {
     "ename": "KeyError",
     "evalue": "7",
     "output_type": "error",
     "traceback": [
      "\u001b[1;31m---------------------------------------------------------------------------\u001b[0m",
      "\u001b[1;31mKeyError\u001b[0m                                  Traceback (most recent call last)",
      "\u001b[1;32m<ipython-input-3-e4b71c431eb3>\u001b[0m in \u001b[0;36m<module>\u001b[1;34m\u001b[0m\n\u001b[0;32m     44\u001b[0m \u001b[0mmy_set9\u001b[0m\u001b[1;33m.\u001b[0m\u001b[0mremove\u001b[0m\u001b[1;33m(\u001b[0m\u001b[1;36m4\u001b[0m\u001b[1;33m)\u001b[0m                                \u001b[1;31m# remove() function does the same operation as that of discard()\u001b[0m\u001b[1;33m\u001b[0m\u001b[1;33m\u001b[0m\u001b[0m\n\u001b[0;32m     45\u001b[0m \u001b[0mprint\u001b[0m\u001b[1;33m(\u001b[0m\u001b[1;34mf\"removed element: {my_set9}\"\u001b[0m\u001b[1;33m)\u001b[0m\u001b[1;33m\u001b[0m\u001b[1;33m\u001b[0m\u001b[0m\n\u001b[1;32m---> 46\u001b[1;33m \u001b[0mmy_set9\u001b[0m\u001b[1;33m.\u001b[0m\u001b[0mremove\u001b[0m\u001b[1;33m(\u001b[0m\u001b[1;36m7\u001b[0m\u001b[1;33m)\u001b[0m                                \u001b[1;31m# the only difference is that if element doesn't exists in set, -\u001b[0m\u001b[1;33m\u001b[0m\u001b[1;33m\u001b[0m\u001b[0m\n\u001b[0m\u001b[0;32m     47\u001b[0m \u001b[0mprint\u001b[0m\u001b[1;33m(\u001b[0m\u001b[1;34mf\"removed element: {my_set9}\\n\"\u001b[0m\u001b[1;33m)\u001b[0m           \u001b[1;31m#   - then using remove() function will generate error.\u001b[0m\u001b[1;33m\u001b[0m\u001b[1;33m\u001b[0m\u001b[0m\n",
      "\u001b[1;31mKeyError\u001b[0m: 7"
     ]
    }
   ],
   "source": [
    "# sets\n",
    "\n",
    "my_set = {1,2,3}                                 # set with same datatype\n",
    "print(my_set,'\\n')\n",
    "\n",
    "my_set1 = {1.0,'Hello',(1,2,3)}             # set with multiple datatype along with tuple, set can have tuple but not lists\n",
    "print(f\"my_set1: {my_set1}\\n\")\n",
    "\n",
    "my_set2 = {1,2,3,1,2,3}                          # set with duplicate values\n",
    "print(f\"my_set2: {my_set2}\\n\")\n",
    "\n",
    "my_set3 = set([1,4,1])                           # converting 'list' to 'set'\n",
    "print(f\"my_set3: {my_set3}\\n\")\n",
    "\n",
    "my_set4 = set()                                  # empty set\n",
    "print(f\"empty set: {my_set4}\\n\")\n",
    "\n",
    "my_set5 = {1,3}\n",
    "print(f\"my_set5: {my_set5}\")        \n",
    "my_set5.add(2)                                # adding an element (can add only one element at a time) without duplicating\n",
    "print(f\"added element: {my_set5}\\n\")\n",
    "\n",
    "my_set5.update([4,5,6])                          # updating the set from the elements of list without duplicating\n",
    "print(f\"Updated set: {my_set5}\")\n",
    "list = [6,7,8,9]\n",
    "my_set5.update(list)                             # updating the set by calling a list without duplicating\n",
    "print(f\"Updated set: {my_set5}\\n\")\n",
    "\n",
    "my_set6 = {'a','b','c'}\n",
    "print(f\"my_set6: {my_set6}\")\n",
    "returned = my_set6.pop()                       # removes the 'random element' from the set and it retuns the removed value.\n",
    "print(f\"removed element: {returned}\")            # Note: in list, removes last element, but in set- removes first element.\n",
    "\n",
    "my_set6.clear()                                  # clearing the set, i.e. all the elements of the list are cleared\n",
    "print(f\"clearing set: {my_set6}\\n\")              \n",
    "\n",
    "my_set7 = {1, 2, 3, 4, 5, 6}\n",
    "my_set7.discard(5)                               # discarded the element from the set\n",
    "print(f\"discarded element: {my_set7}\")           \n",
    "my_set7.discard(7)                               # trying to discard the element which doesn't exist in the set, -\n",
    "print(f\"discarded element: {my_set7}\\n\")         #   - but do not generate error if element doesn't exists in set\n",
    "\n",
    "my_set9 = {1, 2, 3, 4, 5, 6}\n",
    "my_set9.remove(4)                                # remove() function does the same operation as that of discard()\n",
    "print(f\"removed element: {my_set9}\")\n",
    "my_set9.remove(7)                                # the only difference is that if element doesn't exists in set, -\n",
    "print(f\"removed element: {my_set9}\\n\")           #   - then using remove() function will generate error."
   ]
  },
  {
   "cell_type": "code",
   "execution_count": 82,
   "id": "cea74f7f",
   "metadata": {},
   "outputs": [
    {
     "name": "stdout",
     "output_type": "stream",
     "text": [
      "set a: {1, 2, 3, 4}\n",
      "set b: {3, 4, 5, 6, 7}\n",
      "\n",
      "a union b : {1, 2, 3, 4, 5, 6, 7}\n",
      "a | b : {1, 2, 3, 4, 5, 6, 7}\n",
      "Note: (a U b) = (b U a)\n",
      "\n",
      "a intersection b : {3, 4}\n",
      "a & b: {3, 4}\n",
      "Note: (a ∩ b) = (b ∩ a)\n",
      "\n",
      "a difference b : {1, 2}\n",
      "a - b : {1, 2}\n",
      "Note: (a - b) != (b - a)\n",
      "\n",
      "a symmetric difference b : {1, 2, 5, 6, 7}\n",
      "a ^ b : {1, 2, 5, 6, 7}\n",
      "Note: (a ^ b) = (b ^ a)\n",
      "\n"
     ]
    }
   ],
   "source": [
    "# Operations on sets - all results of operations can be stored in variable to use them later\n",
    "\n",
    "a = {1,2,3,4}\n",
    "b = {3,4,5,6,7}\n",
    "print(f'set a: {a}\\nset b: {b}\\n')\n",
    "\n",
    "# a union b ( a U b )\n",
    "result1 = a.union(b)                  # creates a new set combining both the sets together without duplicating any elements\n",
    "print(f\"a union b : {result1}\")                     # a union b = b union a i.e. (a U b) = (b U a)\n",
    "print(f\"a | b : {a | b}\")                           # a | b = b | a i.e. (a U b) = (b U a)\n",
    "print('Note: (a U b) = (b U a)\\n')\n",
    "\n",
    "\n",
    "# intersection\n",
    "result2 = a.intersection(b)       # creates a new set with the elements that are common in both the set without duplicating\n",
    "print(f\"a intersection b : {result2}\")              # i.e. elements that are mutually inclusive to both the sets\n",
    "print(f\"a & b: {a & b}\")                            # a & b = b & a i.e. (a ∩ b) = (b ∩ a)\n",
    "print('Note: (a ∩ b) = (b ∩ a)\\n')\n",
    "\n",
    "# difference\n",
    "result3_1 = a.difference(b)                           # removes the elements of 'set a' that are also present in 'set b'\n",
    "print(f\"a difference b : {result3_1}\")                # a difference b != b difference a i.e. (a - b) != (b - a)\n",
    "result3_2 = a - b\n",
    "print(f\"a - b : {result3_2}\")\n",
    "print('Note: (a - b) != (b - a)\\n')\n",
    "\n",
    "# symmetric difference\n",
    "result4_1 = a.symmetric_difference(b)               # creates a new set with the elements that are uncommon in both the set\n",
    "print(f\"a symmetric difference b : {result4_1}\")    # i.e. elements that are mutually exclusive to both the sets\n",
    "result4_2 = a ^ b                                     # a symm.difference b = b symm.difference a i.e. (a ^ b) = (b ^ a)\n",
    "print(f\"a ^ b : {result4_2}\")\n",
    "print('Note: (a ^ b) = (b ^ a)\\n')"
   ]
  },
  {
   "cell_type": "code",
   "execution_count": 78,
   "id": "718a1187",
   "metadata": {},
   "outputs": [
    {
     "name": "stdout",
     "output_type": "stream",
     "text": [
      "empty dictionary: {}\n",
      "\n",
      "my_dict1: {1: 'apple', 2: 'ball'}\n",
      "\n",
      "my_dict2: {'name': 'John', 1: [2, 4, 3]}\n",
      "\n",
      "dictionary from sequence: {1: 'apple', 2: 'ball'}\n",
      "\n",
      "Person's Name: John\n",
      "\n",
      "using get() Name: John\n",
      "\n",
      "default mssg if key not found: doesn't exist\n",
      "\n",
      "person: {'name': 'Jack', 'age': 26}\n",
      "\n",
      "added salary in person: {'name': 'Jack', 'age': 26, 'salary': 10000}\n",
      "\n",
      "Calling all keys together: \n",
      "dict_keys(['name', 'age', 'salary'])\n",
      "\n",
      "Calling all values together: \n",
      "dict_values(['Jack', 26, 10000])\n",
      "\n",
      "Calling all key:value pairs in tuple form: \n",
      "dict_items([('name', 'Jack'), ('age', 26), ('salary', 10000)])\n",
      "\n",
      "adding using '.setdefault()': {'name': 'Jack', 'age': 26, 'salary': 10000, 'position': 'Manager'}\n",
      "\n",
      "updated age in person: {'name': 'Jack', 'age': 28, 'salary': 10000, 'position': 'Manager'}\n",
      "\n",
      "removed value: Jack\n",
      "updated dictionary: {'age': 28, 'salary': 10000, 'position': 'Manager'}\n",
      "\n",
      "removed random value: ('position', 'Manager')\n",
      "updated dictionary: {'age': 28, 'salary': 10000}\n",
      "\n",
      "Numbers: {1: 'One', 2: 'Two', 3: 'Three'}\n",
      "Numbers after deleting: {1: 'One', 3: 'Three'}\n",
      "\n",
      "Merging two dictionaries: {'age': 28, 'salary': 10000, 1: 'One', 3: 'Three'}\n",
      "\n",
      "Numbers after clearing: {}\n",
      "\n",
      "New Numbers: {1: 'One', 2: 'Two', 3: 'Three'}\n",
      "\n"
     ]
    },
    {
     "ename": "NameError",
     "evalue": "name 'numbers' is not defined",
     "output_type": "error",
     "traceback": [
      "\u001b[1;31m---------------------------------------------------------------------------\u001b[0m",
      "\u001b[1;31mNameError\u001b[0m                                 Traceback (most recent call last)",
      "\u001b[1;32m<ipython-input-78-495c8065f894>\u001b[0m in \u001b[0;36m<module>\u001b[1;34m\u001b[0m\n\u001b[0;32m     62\u001b[0m \u001b[0mprint\u001b[0m\u001b[1;33m(\u001b[0m\u001b[1;34mf\"New Numbers: {numbers1}\\n\"\u001b[0m\u001b[1;33m)\u001b[0m\u001b[1;33m\u001b[0m\u001b[1;33m\u001b[0m\u001b[0m\n\u001b[0;32m     63\u001b[0m \u001b[1;32mdel\u001b[0m \u001b[0mnumbers\u001b[0m                                            \u001b[1;31m# deleting the dictionary, & if tries accessing the dictionary after\u001b[0m\u001b[1;33m\u001b[0m\u001b[1;33m\u001b[0m\u001b[0m\n\u001b[1;32m---> 64\u001b[1;33m \u001b[0mprint\u001b[0m\u001b[1;33m(\u001b[0m\u001b[1;34mf\"deleting Numbers: {numbers}\\n\"\u001b[0m\u001b[1;33m)\u001b[0m                  \u001b[1;31m#   - deleting it, will generate an error\u001b[0m\u001b[1;33m\u001b[0m\u001b[1;33m\u001b[0m\u001b[0m\n\u001b[0m",
      "\u001b[1;31mNameError\u001b[0m: name 'numbers' is not defined"
     ]
    }
   ],
   "source": [
    "# Dictionary (key:value)\n",
    "\n",
    "my_dict = {}                                           # empty dictionary\n",
    "print(f\"empty dictionary: {my_dict}\\n\")\n",
    "\n",
    "my_dict1 = {1:'apple', 2:'ball'}                       # dictionary having keys of same datatype\n",
    "print(f\"my_dict1: {my_dict1}\\n\")\n",
    "\n",
    "my_dict2 = {'name':'John', 1:[2,4,3]}                  # dictionary having keys of different datatype\n",
    "print(f\"my_dict2: {my_dict2}\\n\")\n",
    "\n",
    "my_dict1 = dict({1:'apple',2:'ball'})                  # creating dictionary using the keyword 'dict()'\n",
    "\n",
    "my_dict3 = dict([ (1,'apple'), (2,'ball')])            # creating dictionary from sequence using the keyword 'dict()'\n",
    "print(f\"dictionary from sequence: {my_dict3}\\n\")\n",
    "\n",
    "person_name = my_dict2['name']                         # access the value of dictionary by using the corresponding 'key'\n",
    "print(f\"Person's Name: {person_name}\\n\")\n",
    "\n",
    "person_name1 = my_dict2.get(\"name\")                # access the value of dictionary by using 'get()' function\n",
    "print(f\"using get() Name: {person_name1}\\n\") # while using 'get()' if the key not found, it returns 'None' instead of error\n",
    "\n",
    "person_name2 = my_dict2.get(\"comp\",\"doesn't exist\")       # if the key not found, returns 'doesn't exist' instead of 'None'\n",
    "print(f\"default mssg if key not found: {person_name2}\\n\")  # default message is deplayed as None if not mentioned anything.\n",
    "\n",
    "person = {'name':'Jack','age':26}\n",
    "print(f\"person: {person}\\n\")\n",
    "\n",
    "person['salary'] = 10000                               # adding key:value element to the dictionary\n",
    "print(f\"added salary in person: {person}\\n\")\n",
    " \n",
    "print(f'Calling all keys together: \\n{person.keys()}\\n')\n",
    "print(f'Calling all values together: \\n{person.values()}\\n')\n",
    "print(f'Calling all key:value pairs in tuple form: \\n{person.items()}\\n')\n",
    "\n",
    "person.setdefault('position','Manager')             # add a key:value pair only if the key does not exist in the dictionary\n",
    "print(f\"adding using '.setdefault()': {person}\\n\")     # if the key name already exists in dict, will not change anything\n",
    "\n",
    "person['age'] = 28                                     # updated value of 'key:value' element in the dictionary\n",
    "print(f\"updated age in person: {person}\\n\")\n",
    "\n",
    "value = person.pop('name')                             # remove the 'key:value' pair and returns the value of the pair.\n",
    "print(f\"removed value: {value}\")                       # key:value pair is removed accessing the 'key' and and returns it\n",
    "print(f\"updated dictionary: {person}\\n\")               # if used .pop() without key, removes first element in dictionary.\n",
    "\n",
    "value1 = person.popitem()                             # remove the random key:value pair & returns 'key:value' as the pair.\n",
    "print(f\"removed random value: {value1}\")\n",
    "print(f\"updated dictionary: {person}\\n\")\n",
    "\n",
    "numbers = {1:'One',2:'Two',3:'Three'}\n",
    "print(f\"Numbers: {numbers}\")\n",
    "del numbers[2]                                         # remove the key:value pair from the dictionary just like 'pop()',\n",
    "print(f\"Numbers after deleting: {numbers}\\n\")          #   - but without returning the value\n",
    "\n",
    "person.update(numbers)                                 # adding another dictionary to other merging two dictionaries\n",
    "print(f\"Merging two dictionaries: {person}\\n\")         # Note: can add only a dictionary to another dictionary.\n",
    "\n",
    "numbers.clear()                                        # clearing all the elements of the dictionary\n",
    "print(f\"Numbers after clearing: {numbers}\\n\")\n",
    "\n",
    "numbers1 = {1:'One',2:'Two',3:'Three'}\n",
    "print(f\"New Numbers: {numbers1}\\n\")\n",
    "\n",
    "del numbers                                            # deleting the dictionary, & if tries accessing the dictionary after\n",
    "print(f\"deleting Numbers: {numbers}\\n\")                #   - deleting it, will generate an error"
   ]
  },
  {
   "cell_type": "code",
   "execution_count": 9,
   "id": "27838fda",
   "metadata": {},
   "outputs": [
    {
     "ename": "KeyboardInterrupt",
     "evalue": "Interrupted by user",
     "output_type": "error",
     "traceback": [
      "\u001b[1;31m---------------------------------------------------------------------------\u001b[0m",
      "\u001b[1;31mKeyboardInterrupt\u001b[0m                         Traceback (most recent call last)",
      "\u001b[1;32m<ipython-input-9-067b1a22472b>\u001b[0m in \u001b[0;36m<module>\u001b[1;34m\u001b[0m\n\u001b[0;32m      1\u001b[0m \u001b[1;31m# reversing the number\u001b[0m\u001b[1;33m\u001b[0m\u001b[1;33m\u001b[0m\u001b[1;33m\u001b[0m\u001b[0m\n\u001b[0;32m      2\u001b[0m \u001b[1;33m\u001b[0m\u001b[0m\n\u001b[1;32m----> 3\u001b[1;33m \u001b[0mn\u001b[0m \u001b[1;33m=\u001b[0m \u001b[0mint\u001b[0m\u001b[1;33m(\u001b[0m\u001b[0minput\u001b[0m\u001b[1;33m(\u001b[0m\u001b[1;34m\"Enter the Number: \"\u001b[0m\u001b[1;33m)\u001b[0m\u001b[1;33m)\u001b[0m\u001b[1;33m\u001b[0m\u001b[1;33m\u001b[0m\u001b[0m\n\u001b[0m\u001b[0;32m      4\u001b[0m \u001b[0mn1\u001b[0m \u001b[1;33m=\u001b[0m \u001b[0mn\u001b[0m\u001b[1;33m\u001b[0m\u001b[1;33m\u001b[0m\u001b[0m\n\u001b[0;32m      5\u001b[0m \u001b[0mrev\u001b[0m \u001b[1;33m=\u001b[0m \u001b[1;36m0\u001b[0m\u001b[1;33m\u001b[0m\u001b[1;33m\u001b[0m\u001b[0m\n",
      "\u001b[1;32mc:\\users\\rakesh\\appdata\\local\\programs\\python\\python39\\lib\\site-packages\\ipykernel\\kernelbase.py\u001b[0m in \u001b[0;36mraw_input\u001b[1;34m(self, prompt)\u001b[0m\n\u001b[0;32m    846\u001b[0m                 \u001b[1;34m\"raw_input was called, but this frontend does not support input requests.\"\u001b[0m\u001b[1;33m\u001b[0m\u001b[1;33m\u001b[0m\u001b[0m\n\u001b[0;32m    847\u001b[0m             )\n\u001b[1;32m--> 848\u001b[1;33m         return self._input_request(str(prompt),\n\u001b[0m\u001b[0;32m    849\u001b[0m             \u001b[0mself\u001b[0m\u001b[1;33m.\u001b[0m\u001b[0m_parent_ident\u001b[0m\u001b[1;33m,\u001b[0m\u001b[1;33m\u001b[0m\u001b[1;33m\u001b[0m\u001b[0m\n\u001b[0;32m    850\u001b[0m             \u001b[0mself\u001b[0m\u001b[1;33m.\u001b[0m\u001b[0m_parent_header\u001b[0m\u001b[1;33m,\u001b[0m\u001b[1;33m\u001b[0m\u001b[1;33m\u001b[0m\u001b[0m\n",
      "\u001b[1;32mc:\\users\\rakesh\\appdata\\local\\programs\\python\\python39\\lib\\site-packages\\ipykernel\\kernelbase.py\u001b[0m in \u001b[0;36m_input_request\u001b[1;34m(self, prompt, ident, parent, password)\u001b[0m\n\u001b[0;32m    890\u001b[0m             \u001b[1;32mexcept\u001b[0m \u001b[0mKeyboardInterrupt\u001b[0m\u001b[1;33m:\u001b[0m\u001b[1;33m\u001b[0m\u001b[1;33m\u001b[0m\u001b[0m\n\u001b[0;32m    891\u001b[0m                 \u001b[1;31m# re-raise KeyboardInterrupt, to truncate traceback\u001b[0m\u001b[1;33m\u001b[0m\u001b[1;33m\u001b[0m\u001b[1;33m\u001b[0m\u001b[0m\n\u001b[1;32m--> 892\u001b[1;33m                 \u001b[1;32mraise\u001b[0m \u001b[0mKeyboardInterrupt\u001b[0m\u001b[1;33m(\u001b[0m\u001b[1;34m\"Interrupted by user\"\u001b[0m\u001b[1;33m)\u001b[0m \u001b[1;32mfrom\u001b[0m \u001b[1;32mNone\u001b[0m\u001b[1;33m\u001b[0m\u001b[1;33m\u001b[0m\u001b[0m\n\u001b[0m\u001b[0;32m    893\u001b[0m             \u001b[1;32mexcept\u001b[0m \u001b[0mException\u001b[0m \u001b[1;32mas\u001b[0m \u001b[0me\u001b[0m\u001b[1;33m:\u001b[0m\u001b[1;33m\u001b[0m\u001b[1;33m\u001b[0m\u001b[0m\n\u001b[0;32m    894\u001b[0m                 \u001b[0mself\u001b[0m\u001b[1;33m.\u001b[0m\u001b[0mlog\u001b[0m\u001b[1;33m.\u001b[0m\u001b[0mwarning\u001b[0m\u001b[1;33m(\u001b[0m\u001b[1;34m\"Invalid Message:\"\u001b[0m\u001b[1;33m,\u001b[0m \u001b[0mexc_info\u001b[0m\u001b[1;33m=\u001b[0m\u001b[1;32mTrue\u001b[0m\u001b[1;33m)\u001b[0m\u001b[1;33m\u001b[0m\u001b[1;33m\u001b[0m\u001b[0m\n",
      "\u001b[1;31mKeyboardInterrupt\u001b[0m: Interrupted by user"
     ]
    }
   ],
   "source": [
    "# reversing the number & Checking Number is Palindrome\n",
    "\n",
    "n = int(input(\"Enter the Number: \"))\n",
    "n1 = n\n",
    "rev = 0\n",
    "\n",
    "while n1 != 0:\n",
    "    rem = n1 % 10\n",
    "    rev = rev*10 + rem\n",
    "    n1 = n1 // 10        \n",
    "print(rev)\n",
    "\n",
    "if n == rev:\n",
    "    print(\"Number is a Palindrome\")\n",
    "\n",
    "    \n",
    "# below methods are not to be used ever, as these methods are technically not recommended, however the output is correct\n",
    "\n",
    "# my method 1\n",
    "n = float(input(\"Enter the number to be reversed: \"))       # if the input is taken in terms of integer or float\n",
    "n1 = str(n)\n",
    "n1 = (n1[-1::-1])\n",
    "print(float(n1))\n",
    "if n == n1:\n",
    "    print(\"Number is a Palindrome\")\n",
    "    \n",
    "    \n",
    "# my method 2\n",
    "n = input(\"Enter the number to be reversed: \")              # if the input is taken as string\n",
    "n1 = (n[-1::-1])\n",
    "print(n1) \n",
    "if n == n1:\n",
    "    print(\"Number is a Palindrome\")"
   ]
  },
  {
   "cell_type": "code",
   "execution_count": 96,
   "id": "6b10c38d",
   "metadata": {},
   "outputs": [
    {
     "name": "stdout",
     "output_type": "stream",
     "text": [
      "True\n"
     ]
    }
   ],
   "source": [
    "# Modules\n",
    "\n",
    "# Modules refers to a file containing Python statements and definations.\n",
    "# We use modules to break down large programs into small, manageable and organized files. \n",
    "#   - Furthermore, modules provide reusability of code. \n",
    "# We can define our most used functions in a module and import it,-\n",
    "#   - instead of copying their definations into different programs.\n",
    "# Python has ton of standard modules available\n",
    "# These module/files are in 'Lib' directory inside the location where you installed Python.\n",
    "# These modules are readibly available; you can import and use them like user-defined modules."
   ]
  },
  {
   "cell_type": "code",
   "execution_count": null,
   "id": "247f3276",
   "metadata": {},
   "outputs": [],
   "source": [
    "# Modules\n",
    "\n",
    "# Creating and Importing Module\n",
    "\n",
    "# To create a Module, write Python code in a file and save it with '.py' file extension.\n",
    "# Let's create a file named 'example.py' and save the following code.\n",
    "\n",
    "def add(a,b):\n",
    "    '''This program adds two numbers'''\n",
    "    result = a + b\n",
    "    return result\n",
    "\n",
    "\n",
    "# Import Module\n",
    "\n",
    "# To use this module, we need to import it. Let's create a new file 'main.py' and import the 'example' module.\n",
    "\n",
    "import example\n",
    "\n",
    "# Once we import the 'example' module, we can call the add() function defined in it.\n",
    "\n",
    "import example\n",
    "output = example.add(21,3.5)\n",
    "\n",
    "# To call the function defined in the module, we use the dot '.' operator.\n",
    "# Here, 'example.add()' calls 'add()' function defined in the 'example' module."
   ]
  },
  {
   "cell_type": "code",
   "execution_count": 2,
   "id": "1bc66b22",
   "metadata": {},
   "outputs": [
    {
     "ename": "SyntaxError",
     "evalue": "invalid syntax (<ipython-input-2-3bf0fc7e186f>, line 8)",
     "output_type": "error",
     "traceback": [
      "\u001b[1;36m  File \u001b[1;32m\"<ipython-input-2-3bf0fc7e186f>\"\u001b[1;36m, line \u001b[1;32m8\u001b[0m\n\u001b[1;33m    print(\"The value of pi is \"m.pi)\u001b[0m\n\u001b[1;37m                               ^\u001b[0m\n\u001b[1;31mSyntaxError\u001b[0m\u001b[1;31m:\u001b[0m invalid syntax\n"
     ]
    }
   ],
   "source": [
    "# Modules\n",
    "\n",
    "# Importing Modules with Renaming\n",
    "\n",
    "# We can rename the module during import. For example-\n",
    "\n",
    "import math as m\n",
    "print(\"The value of pi is \"m.pi)\n",
    "\n",
    "# Here we renamed 'math' module as 'm'. Then we accessed the 'pi' constant using 'm.pi'."
   ]
  },
  {
   "cell_type": "code",
   "execution_count": 3,
   "id": "295c7f80",
   "metadata": {},
   "outputs": [
    {
     "name": "stdout",
     "output_type": "stream",
     "text": [
      "3.141592653589793\n",
      "2.718281828459045\n"
     ]
    }
   ],
   "source": [
    "# Modules\n",
    "\n",
    "# from module.....import statement\n",
    "\n",
    "#  We can import specific names from a module without importing the module as a whole. Here is an example-\n",
    "\n",
    "from math import pi, e\n",
    "\n",
    "print(pi)\n",
    "print(e)\n",
    "\n",
    "# We imported 2 attributes 'pi' & 'e' from 'math' module. We do not use dot '.' operator when we import modules this way."
   ]
  },
  {
   "cell_type": "code",
   "execution_count": null,
   "id": "14e059d3",
   "metadata": {},
   "outputs": [],
   "source": [
    "# Modules\n",
    "\n",
    "# Built-in Method dir()\n",
    "\n",
    "# We can use the 'dir()' function to find out the list of valid attributes defined inside the modules. For Example-\n",
    "\n",
    "import math\n",
    "\n",
    "print(dir(math))"
   ]
  },
  {
   "cell_type": "code",
   "execution_count": null,
   "id": "a5f869ad",
   "metadata": {},
   "outputs": [],
   "source": [
    "# Files\n",
    "\n",
    "# A file is a named location on disk to store related information.\n",
    "# It is used to permanently store data in a non-volatile memory (eg. hard disk)\n",
    "# When we want to 'read from' or 'write to' a file, we need to open it first. When we are done, it needs to be closed,- \n",
    "#   - so that resources that are tied with the files are freed.\n",
    "\n",
    "# Hence, in Python, a file operation takes place in the following order-\n",
    "\n",
    "# 1. Open a file      (file_object = open('file_name.extention', mode = 'as mentioned below'))\n",
    "# 2. Read or Write    (perform operations on file)\n",
    "# 3. Close the file   (file_object.close())"
   ]
  },
  {
   "cell_type": "code",
   "execution_count": null,
   "id": "279d47e0",
   "metadata": {},
   "outputs": [],
   "source": [
    "# Files\n",
    "\n",
    "# How to Open a File ?\n",
    "\n",
    "# Python has a built-in function 'open()' to open a file. This function returns a file object, also called a handle,-\n",
    "#   - as it is used to read or modify the line accordingly.\n",
    "\n",
    "f = open('test.txt')                    # Open file if it is in current directory\n",
    "\n",
    "f = open('C:/Python39/README.txt')      # specifying full path of file location if current file is in different location\n",
    "\n",
    "# We can specify the mode while opening a file. We use 'r' to 'read', 'w' to 'write' and 'a' to 'append' to the file\n",
    "# We also specify if we want to open the file in text mode 't' or binary mode 'b'."
   ]
  },
  {
   "cell_type": "code",
   "execution_count": null,
   "id": "ffa1e30e",
   "metadata": {},
   "outputs": [],
   "source": [
    "# Files\n",
    "# Specifying mode during file open()\n",
    "\n",
    "# Modes        Description\n",
    "\n",
    "# 'r'     :    Open a file for reading (default mode).\n",
    "# 'w'     :    Open a file for writing. Creates a new file if file does not exist.\n",
    "# 'a'     :    Open for 'appending' at the end of the file. Creates a new file if the file does not exist.\n",
    "# 'x'     :    Open a file for exclusive creation (function to Create a file). If the file already exists, operation fails.\n",
    "# 't'     :    Open file in text mode (default mode too).\n",
    "# 'b'     :    Open in binary mode. Used for images and binary files.\n",
    "# '+'     :    Open a file for updating (reading and writing)\n",
    "\n",
    "\n",
    "# Let's take an example\n",
    "\n",
    "f = open('test.txt')              # equivalent to 'r' or 'rt'\n",
    "f = open('test.txt','w')          # write in text mode  (equivalent to 'wt')\n",
    "f = open('test.txt', 'r+b')       # read and write in binary mode"
   ]
  },
  {
   "cell_type": "code",
   "execution_count": null,
   "id": "d8eee8ab",
   "metadata": {},
   "outputs": [],
   "source": [
    "# Files\n",
    "# Specifying Encoding Type in open()\n",
    "\n",
    "# If we do not specify the encoding type, it's platform dependent. In windows, it's \"cp1252\" but in Linux it's \"utf-8\".\n",
    "# So, we must not rely on the default encoding or else, our code may behave differently in different platforms.\n",
    "# Hence, when working with files in text mode, it is highly recommended to specify the encoding type.\n",
    "\n",
    "f = open('test.txt', mode = 'r', encoding = 'cp1252')     # we had opened the 'test.txt' in read mode & encoded in 'cp1252'"
   ]
  },
  {
   "cell_type": "code",
   "execution_count": null,
   "id": "e477dcc3",
   "metadata": {},
   "outputs": [],
   "source": [
    "# Files\n",
    "\n",
    "# Safely Close a File\n",
    "\n",
    "# A safer way to close a file is by using a \"try.....finally\" block/\n",
    "try:\n",
    "    f = open('test.txt',encoding = 'cp1252')\n",
    "    # perform file operation\n",
    "    \n",
    "finally:\n",
    "    f.close() \n",
    "# This way, we are guaranteed that the file is properly closed even if an exception is raised.\n",
    "\n",
    "\n",
    "# The Best way to Close a File-\n",
    "\n",
    "# The best way to close a file is by using the 'with' statement. -\n",
    "#   - This ensures that the file is close when the block inside 'with' is exited\n",
    "# We don't need to explicitly call the 'close()' method. It is done internally.\n",
    "\n",
    "with open('test.txt', mode= 'w', encoding = 'cp1252') as f:\n",
    "    # perform file operation using file_object 'f' as defined\n",
    "    \n",
    "# Above program opens 'test.txt' file in text mode with 'cp1252' encoding. Once all operations are done, file is closed."
   ]
  },
  {
   "cell_type": "code",
   "execution_count": null,
   "id": "c46bce48",
   "metadata": {},
   "outputs": [],
   "source": [
    "# Files\n",
    "\n",
    "# How to Write a File ?\n",
    "\n",
    "# In order to write into a file in Python, we need to open it in write 'w', append 'a', or exclusive creation 'x' mode.\n",
    "# We need to be careful with 'w' mode as it will overwrite into the file if it already exists. All previous data will be erased.\n",
    "# Writing a string or sequence of bytes (for binary files) is done using the write() method. -\n",
    "#   - The method returns the number of characters written to the file.\n",
    "\n",
    "with open('test.txt','w',encoding = 'cp1252') as f:\n",
    "    f.write('my first file\\n')\n",
    "    f.write('This file\\n')\n",
    "    f.write('contains three lines\\n')\n",
    "       \n",
    "# This program will create a new file named 'test.txt' if it does not exist.\n",
    "# When you run the program, the content of the file 'test.txt' file will be\n",
    "'''\n",
    "Output:\n",
    "\n",
    "my first file\n",
    "This file\n",
    "contains three lines\n",
    "'''"
   ]
  },
  {
   "cell_type": "code",
   "execution_count": null,
   "id": "492018b8",
   "metadata": {},
   "outputs": [],
   "source": [
    "# Files\n",
    "\n",
    "# How to Read a File ?"
   ]
  },
  {
   "cell_type": "code",
   "execution_count": null,
   "id": "8f496d5d",
   "metadata": {},
   "outputs": [],
   "source": []
  },
  {
   "cell_type": "code",
   "execution_count": null,
   "id": "e592e7de",
   "metadata": {},
   "outputs": [],
   "source": []
  }
 ],
 "metadata": {
  "kernelspec": {
   "display_name": "Python 3",
   "language": "python",
   "name": "python3"
  },
  "language_info": {
   "codemirror_mode": {
    "name": "ipython",
    "version": 3
   },
   "file_extension": ".py",
   "mimetype": "text/x-python",
   "name": "python",
   "nbconvert_exporter": "python",
   "pygments_lexer": "ipython3",
   "version": "3.9.2"
  }
 },
 "nbformat": 4,
 "nbformat_minor": 5
}
